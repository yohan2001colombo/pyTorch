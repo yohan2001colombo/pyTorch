{
  "nbformat": 4,
  "nbformat_minor": 0,
  "metadata": {
    "colab": {
      "provenance": [],
      "authorship_tag": "ABX9TyOCU6FcMO1L+Ahr20IVRzWk",
      "include_colab_link": true
    },
    "kernelspec": {
      "name": "python3",
      "display_name": "Python 3"
    },
    "language_info": {
      "name": "python"
    }
  },
  "cells": [
    {
      "cell_type": "markdown",
      "metadata": {
        "id": "view-in-github",
        "colab_type": "text"
      },
      "source": [
        "<a href=\"https://colab.research.google.com/github/yohan2001colombo/pyTorch/blob/main/CNN.ipynb\" target=\"_parent\"><img src=\"https://colab.research.google.com/assets/colab-badge.svg\" alt=\"Open In Colab\"/></a>"
      ]
    },
    {
      "cell_type": "code",
      "execution_count": 123,
      "metadata": {
        "id": "gZpA6XlqZJYg"
      },
      "outputs": [],
      "source": [
        "# Import the libraries\n",
        "import torch\n",
        "import torch.nn as nn\n",
        "import torch.nn.functional as F\n",
        "from torch.utils.data import DataLoader\n",
        "from torchvision import datasets, transforms\n",
        "from torchvision.utils import make_grid\n",
        "\n",
        "import numpy as np\n",
        "import pandas as pd\n",
        "import matplotlib.pyplot as plt\n",
        "from sklearn.metrics import confusion_matrix"
      ]
    },
    {
      "cell_type": "code",
      "source": [
        "# convert MNIST Image files into a Tensor of 4-Dimensions (# of Images, Height, Width, colour channel)\n",
        "\n",
        "transform = transforms.ToTensor()"
      ],
      "metadata": {
        "id": "GER2qHIqni1u"
      },
      "execution_count": 124,
      "outputs": []
    },
    {
      "cell_type": "code",
      "source": [
        "# Train Data\n",
        "train_data = datasets.MNIST(root='cnn_data',train=True, download=True,transform = transform)"
      ],
      "metadata": {
        "id": "n22k2QX8ozJv"
      },
      "execution_count": 125,
      "outputs": []
    },
    {
      "cell_type": "code",
      "source": [
        "train_loader_pytorch = DataLoader(train_data, batch_size = 1, shuffle = True)\n",
        "# Create a figure to display the images\n",
        "plt.figure(figsize=(15, 3))\n",
        "\n",
        "# Print the first few images in a row\n",
        "for i, (image, label) in enumerate(train_loader_pytorch):\n",
        "    if i < 5:  # Print the first 5 samples\n",
        "        plt.subplot(1, 5, i + 1)\n",
        "        plt.imshow(image[0].squeeze(), cmap='gray')\n",
        "        plt.title(f\"Label: {label.item()}\")\n",
        "        plt.axis('off')\n",
        "    else:\n",
        "        break  # Exit the loop after printing 5 samples\n",
        "\n",
        "plt.tight_layout()\n",
        "plt.show()"
      ],
      "metadata": {
        "colab": {
          "base_uri": "https://localhost:8080/",
          "height": 277
        },
        "id": "mGnCIDAwWUhY",
        "outputId": "7796b052-8a5f-4d23-ed62-b8b21a8a5fbf"
      },
      "execution_count": 128,
      "outputs": [
        {
          "output_type": "display_data",
          "data": {
            "text/plain": [
              "<Figure size 1500x300 with 5 Axes>"
            ],
            "image/png": "[encoded data removed]"
          },
          "metadata": {}
        }
      ]
    },
    {
      "cell_type": "code",
      "source": [
        "test_data = datasets.MNIST(root='cnn_data',train=False, download=True, transform = transform)"
      ],
      "metadata": {
        "id": "7A_-i_enpVf4"
      },
      "execution_count": 82,
      "outputs": []
    },
    {
      "cell_type": "code",
      "source": [
        "train_data"
      ],
      "metadata": {
        "colab": {
          "base_uri": "https://localhost:8080/"
        },
        "id": "Cix41wDYp4PJ",
        "outputId": "52a2f212-addd-40e3-971b-2cbcd01d41f5"
      },
      "execution_count": 83,
      "outputs": [
        {
          "output_type": "execute_result",
          "data": {
            "text/plain": [
              "Dataset MNIST\n",
              "    Number of datapoints: 60000\n",
              "    Root location: cnn_data\n",
              "    Split: Train\n",
              "    StandardTransform\n",
              "Transform: ToTensor()"
            ]
          },
          "metadata": {},
          "execution_count": 83
        }
      ]
    },
    {
      "cell_type": "code",
      "source": [
        "pwd"
      ],
      "metadata": {
        "colab": {
          "base_uri": "https://localhost:8080/",
          "height": 35
        },
        "id": "XfjicJNbqfAp",
        "outputId": "2efb96b9-0b0a-47be-f518-b428cc76f4ce"
      },
      "execution_count": 84,
      "outputs": [
        {
          "output_type": "execute_result",
          "data": {
            "text/plain": [
              "'/content/cnn_data'"
            ],
            "application/vnd.google.colaboratory.intrinsic+json": {
              "type": "string"
            }
          },
          "metadata": {},
          "execution_count": 84
        }
      ]
    },
    {
      "cell_type": "code",
      "source": [
        "ls"
      ],
      "metadata": {
        "colab": {
          "base_uri": "https://localhost:8080/"
        },
        "id": "j5uTy_Xmqihf",
        "outputId": "ad29cdcd-3adb-406a-fa51-7b9fd4659ebe"
      },
      "execution_count": 85,
      "outputs": [
        {
          "output_type": "stream",
          "name": "stdout",
          "text": [
            "\u001b[0m\u001b[01;34mcnn_data\u001b[0m/  \u001b[01;34mMNIST\u001b[0m/\n"
          ]
        }
      ]
    },
    {
      "cell_type": "code",
      "source": [
        "ls MNIST/"
      ],
      "metadata": {
        "colab": {
          "base_uri": "https://localhost:8080/"
        },
        "id": "R8HHhfTBqlls",
        "outputId": "5c6afc0e-4b3e-4005-fec2-2c909d539662"
      },
      "execution_count": 86,
      "outputs": [
        {
          "output_type": "stream",
          "name": "stdout",
          "text": [
            "\u001b[0m\u001b[01;34mraw\u001b[0m/\n"
          ]
        }
      ]
    },
    {
      "cell_type": "code",
      "source": [
        "ls"
      ],
      "metadata": {
        "colab": {
          "base_uri": "https://localhost:8080/"
        },
        "id": "bHN5pq7CqoDY",
        "outputId": "853ff398-ca9a-4eae-a107-21dce5dc9e5d"
      },
      "execution_count": 87,
      "outputs": [
        {
          "output_type": "stream",
          "name": "stdout",
          "text": [
            "\u001b[0m\u001b[01;34mcnn_data\u001b[0m/  \u001b[01;34mMNIST\u001b[0m/\n"
          ]
        }
      ]
    },
    {
      "cell_type": "code",
      "source": [
        "ls"
      ],
      "metadata": {
        "colab": {
          "base_uri": "https://localhost:8080/"
        },
        "id": "Mh4vgxlbq5gx",
        "outputId": "8089145e-e34b-413b-f465-f9992447b11b"
      },
      "execution_count": 88,
      "outputs": [
        {
          "output_type": "stream",
          "name": "stdout",
          "text": [
            "\u001b[0m\u001b[01;34mcnn_data\u001b[0m/  \u001b[01;34mMNIST\u001b[0m/\n"
          ]
        }
      ]
    },
    {
      "cell_type": "code",
      "source": [
        "train_data"
      ],
      "metadata": {
        "colab": {
          "base_uri": "https://localhost:8080/"
        },
        "id": "wsbqEfSrrF3H",
        "outputId": "b61b9975-893d-4a08-c664-11ebfae18a75"
      },
      "execution_count": 89,
      "outputs": [
        {
          "output_type": "execute_result",
          "data": {
            "text/plain": [
              "Dataset MNIST\n",
              "    Number of datapoints: 60000\n",
              "    Root location: cnn_data\n",
              "    Split: Train\n",
              "    StandardTransform\n",
              "Transform: ToTensor()"
            ]
          },
          "metadata": {},
          "execution_count": 89
        }
      ]
    },
    {
      "cell_type": "code",
      "source": [
        "# create a small batch size for images... lets say 10\n",
        "train_loader = DataLoader(train_data, batch_size = 10, shuffle = True)\n",
        "test_loader = DataLoader(test_data, batch_size = 10, shuffle=True)"
      ],
      "metadata": {
        "id": "9k-BDmHCrgrh"
      },
      "execution_count": 90,
      "outputs": []
    },
    {
      "cell_type": "code",
      "source": [
        "# Define Our CNN model\n",
        "# Describe convolutional layer and what it's doing (2 CNN layer)\n",
        "# futher datails https://www.datacamp.com/tutorial/introduction-to-convolutional-neural-networks-cnns?utm_source=google&utm_medium=paid_search&utm_campaignid=19589720824&utm_adgroupid=157156376071&utm_device=c&utm_keyword=&utm_matchtype=&utm_network=g&utm_adpostion=&utm_creative=684592140425&utm_targetid=aud-1459190388940:dsa-2218886984380&utm_loc_interest_ms=&utm_loc_physical_ms=9199150&utm_content=ps-other~apac-en~dsa~tofu~tutorial-machine-learning&accountid=9624585688&utm_campaign=230119_1-ps-other~dsa~tofu_2-b2c_3-apac_4-prc_5-na_6-na_7-le_8-pdsh-go_9-nb-e_10-na_11-na&gad_source=1&gad_campaignid=19589720824&gclid=Cj0KCQjwjJrCBhCXARIsAI5x66Uf0XuTUPi3M_b9uvoF7ASr7Er9mzQftB0aH8uHcmlelHHG2czVAO8aAu6DEALw_wcB\n",
        "\n",
        "\n",
        "conv1 = nn.Conv2d(in_channels=1, out_channels=6, kernel_size=3, stride=1)\n",
        "conv2 = nn.Conv2d(in_channels=6, out_channels=16, kernel_size=3, stride=1)"
      ],
      "metadata": {
        "id": "9sg6HsmRs_2f"
      },
      "execution_count": 91,
      "outputs": []
    },
    {
      "cell_type": "code",
      "source": [
        "# Grab 1 MNIST record/Image\n",
        "for i, (X_train, y_train) in enumerate(train_data):\n",
        "  break"
      ],
      "metadata": {
        "id": "Dn50ViSC4IlF"
      },
      "execution_count": 92,
      "outputs": []
    },
    {
      "cell_type": "code",
      "source": [
        "X_train.shape\n",
        "# torch.Size([1, 28, 28]) ==> 1 Image 28*28 pixels"
      ],
      "metadata": {
        "colab": {
          "base_uri": "https://localhost:8080/"
        },
        "id": "exlpzhJM4wvY",
        "outputId": "daee319b-13be-46de-b55f-b12c8ff6dc5c"
      },
      "execution_count": 93,
      "outputs": [
        {
          "output_type": "execute_result",
          "data": {
            "text/plain": [
              "torch.Size([1, 28, 28])"
            ]
          },
          "metadata": {},
          "execution_count": 93
        }
      ]
    },
    {
      "cell_type": "code",
      "source": [
        "x = X_train.view(1,1,28,28)\n",
        "# 1 Batch 1 Image 28*28 Image Pixel"
      ],
      "metadata": {
        "id": "LxqjpzRD5e4a"
      },
      "execution_count": 94,
      "outputs": []
    },
    {
      "cell_type": "code",
      "source": [
        "# Perform our first convolution\n",
        "x = F.relu(conv1(x)) # Recitified Linear Unit for our activation function\n"
      ],
      "metadata": {
        "id": "8X1Kh9EM6LTJ"
      },
      "execution_count": 95,
      "outputs": []
    },
    {
      "cell_type": "code",
      "source": [
        "# 1 Single Image, 6  is the filters we asked for 26*26 pixels\n",
        "x.shape"
      ],
      "metadata": {
        "colab": {
          "base_uri": "https://localhost:8080/"
        },
        "id": "JRPwKIRo65xR",
        "outputId": "c21b9430-c824-483e-8f41-e32ee2575ba2"
      },
      "execution_count": 96,
      "outputs": [
        {
          "output_type": "execute_result",
          "data": {
            "text/plain": [
              "torch.Size([1, 6, 26, 26])"
            ]
          },
          "metadata": {},
          "execution_count": 96
        }
      ]
    },
    {
      "cell_type": "code",
      "source": [
        "# pass through the pooling layer\n",
        "x = F.max_pool2d(x,2,2) # kernel of 2 and stride of 2"
      ],
      "metadata": {
        "id": "Zw9ZU9SX8qfG"
      },
      "execution_count": 97,
      "outputs": []
    },
    {
      "cell_type": "code",
      "source": [
        "x.shape\n",
        "# 26/2 = 13"
      ],
      "metadata": {
        "colab": {
          "base_uri": "https://localhost:8080/"
        },
        "id": "6Al2PZu19Rsf",
        "outputId": "559935f2-9b67-4e25-81ce-b861903508cf"
      },
      "execution_count": 98,
      "outputs": [
        {
          "output_type": "execute_result",
          "data": {
            "text/plain": [
              "torch.Size([1, 6, 13, 13])"
            ]
          },
          "metadata": {},
          "execution_count": 98
        }
      ]
    },
    {
      "cell_type": "code",
      "source": [
        "# Do our second convolution\n",
        "x = F.relu(conv2(x))"
      ],
      "metadata": {
        "id": "4HQpDSuw9afD"
      },
      "execution_count": 99,
      "outputs": []
    },
    {
      "cell_type": "code",
      "source": [
        "# Again we didn't set padding so we lose 2 pixels around the outside of the image\n",
        "x.shape"
      ],
      "metadata": {
        "colab": {
          "base_uri": "https://localhost:8080/"
        },
        "id": "ZZjXrsn5-Nu3",
        "outputId": "5afe77b6-22c2-4356-f86c-8320f4e12662"
      },
      "execution_count": 100,
      "outputs": [
        {
          "output_type": "execute_result",
          "data": {
            "text/plain": [
              "torch.Size([1, 16, 11, 11])"
            ]
          },
          "metadata": {},
          "execution_count": 100
        }
      ]
    },
    {
      "cell_type": "code",
      "source": [
        "# Pooling Layer\n",
        "x = F.max_pool2d(x,2,2)"
      ],
      "metadata": {
        "id": "RJ2HCLwr-M2k"
      },
      "execution_count": 101,
      "outputs": []
    },
    {
      "cell_type": "code",
      "source": [
        "# 11/2 = 5.5 but we have to round down because you can't invent data to round up # lose data in pooling\n",
        "x.shape"
      ],
      "metadata": {
        "colab": {
          "base_uri": "https://localhost:8080/"
        },
        "id": "d7UyZaZl-ncv",
        "outputId": "dae46b42-e094-435f-e085-8e43c17405c0"
      },
      "execution_count": 102,
      "outputs": [
        {
          "output_type": "execute_result",
          "data": {
            "text/plain": [
              "torch.Size([1, 16, 5, 5])"
            ]
          },
          "metadata": {},
          "execution_count": 102
        }
      ]
    },
    {
      "cell_type": "code",
      "source": [
        "# 1 Image ==> Conv1 ==> Padding ==> Conv2 ==> Padding\n",
        "# Model Class\n",
        "class convolutionalNetwork(nn.Module):\n",
        "  def __init__(self):\n",
        "    super().__init__()\n",
        "    self.conv1 = nn.Conv2d(1,6,3,1)\n",
        "    self.conv2 = nn.Conv2d(6,16,3,1)\n",
        "    # Fully connected layer\n",
        "    self.fc1 = nn.Linear(5*5*16,120)\n",
        "    self.fc2 = nn.Linear(120,84)\n",
        "    self.fc3 = nn.Linear(84,10)\n",
        "\n",
        "  def forward(self,x):\n",
        "    x = F.relu(self.conv1(x))\n",
        "    x = F.max_pool2d(x,2,2) # 2x2 kernel and stride 2\n",
        "    x = F.relu(self.conv2(x))\n",
        "    x = F.max_pool2d(x,2,2)\n",
        "\n",
        "    # Re-View to flatten it out\n",
        "    x = x.view(-1,5*5*16) # negative one so that we can vary the batch size\n",
        "\n",
        "    # Fully connected layer\n",
        "    x = F.relu(self.fc1(x))\n",
        "    x = F.relu(self.fc2(x))\n",
        "    x = self.fc3(x)\n",
        "\n",
        "    return F.log_softmax(x,dim=1)\n"
      ],
      "metadata": {
        "id": "iIlsfYgu_H6J"
      },
      "execution_count": 103,
      "outputs": []
    },
    {
      "cell_type": "code",
      "source": [
        "# Create an Instance of our model\n",
        "torch.manual_seed(42)\n",
        "model = convolutionalNetwork()\n",
        "model"
      ],
      "metadata": {
        "colab": {
          "base_uri": "https://localhost:8080/"
        },
        "id": "Nqes7IX2CxJv",
        "outputId": "59b343ab-eacb-4ace-e249-9b8444e23e07"
      },
      "execution_count": 104,
      "outputs": [
        {
          "output_type": "execute_result",
          "data": {
            "text/plain": [
              "convolutionalNetwork(\n",
              "  (conv1): Conv2d(1, 6, kernel_size=(3, 3), stride=(1, 1))\n",
              "  (conv2): Conv2d(6, 16, kernel_size=(3, 3), stride=(1, 1))\n",
              "  (fc1): Linear(in_features=400, out_features=120, bias=True)\n",
              "  (fc2): Linear(in_features=120, out_features=84, bias=True)\n",
              "  (fc3): Linear(in_features=84, out_features=10, bias=True)\n",
              ")"
            ]
          },
          "metadata": {},
          "execution_count": 104
        }
      ]
    },
    {
      "cell_type": "code",
      "source": [
        "# Loss function Optimizer\n",
        "criterion = nn.CrossEntropyLoss()\n",
        "optimizer = torch.optim.Adam(model.parameters(), lr=0.001) # smaller the laerning rate longer its gonna take to train\n"
      ],
      "metadata": {
        "id": "mkvS8tgNDItY"
      },
      "execution_count": 105,
      "outputs": []
    },
    {
      "cell_type": "code",
      "source": [
        "model"
      ],
      "metadata": {
        "colab": {
          "base_uri": "https://localhost:8080/"
        },
        "id": "B5RpO_y4Ke9b",
        "outputId": "fbbbdf31-19ef-425e-b945-6b10f0e1ab9b"
      },
      "execution_count": 106,
      "outputs": [
        {
          "output_type": "execute_result",
          "data": {
            "text/plain": [
              "convolutionalNetwork(\n",
              "  (conv1): Conv2d(1, 6, kernel_size=(3, 3), stride=(1, 1))\n",
              "  (conv2): Conv2d(6, 16, kernel_size=(3, 3), stride=(1, 1))\n",
              "  (fc1): Linear(in_features=400, out_features=120, bias=True)\n",
              "  (fc2): Linear(in_features=120, out_features=84, bias=True)\n",
              "  (fc3): Linear(in_features=84, out_features=10, bias=True)\n",
              ")"
            ]
          },
          "metadata": {},
          "execution_count": 106
        }
      ]
    },
    {
      "cell_type": "code",
      "source": [
        "import time\n",
        "start_time = time.time()\n",
        "\n",
        "# create variales to track things\n",
        "epochs = 5\n",
        "train_losses = []\n",
        "test_losses = []\n",
        "train_correct = []\n",
        "test_correct = []\n",
        "\n",
        "# for Loop of Epochs\n",
        "for i in range(epochs):\n",
        "  trn_corr = 0\n",
        "  tst_corr = 0\n",
        "\n",
        "  # Train\n",
        "  for b, (X_train, y_train) in enumerate(train_loader):\n",
        "    b = b+1 # start our batchs at 1\n",
        "    y_pred = model(X_train) # get predicted value from the training set, Not flattened\n",
        "    loss = criterion(y_pred, y_train) # how off are we? cmpare the parameters to correct\n",
        "\n",
        "    predicted = torch.max(y_pred.data,1)[1]\n",
        "    batch_corr = (predicted == y_train).sum()\n",
        "    trn_corr += batch_corr\n",
        "\n",
        "    # update our parameters\n",
        "    optimizer.zero_grad()\n",
        "    loss.backward()\n",
        "    optimizer.step()\n",
        "\n",
        "    # print out some results\n",
        "    if b%600 == 0:\n",
        "      print(f'epoch: {i}  batch: {b}  loss: {loss.item()}  \\\n",
        "      accuracy: {trn_corr.item()*100/(10*b)}%')\n",
        "    # Train\n",
        "  train_losses.append(loss)\n",
        "  train_correct.append(trn_corr)\n",
        "\n",
        "    # Test\n",
        "  with torch.no_grad():\n",
        "    for b, (X_test, y_test) in enumerate(test_loader):\n",
        "      y_val = model(X_test)\n",
        "      predicted = torch.max(y_val.data,1)[1] # Adding up correct predictions\n",
        "      tst_corr += (predicted == y_test).sum() # T=1 F=0 and sum away\n",
        "\n",
        "\n",
        "  loss = criterion(y_val, y_test)\n",
        "  test_losses.append(loss)\n",
        "  test_correct.append(tst_corr)\n",
        "\n",
        "\n",
        "current_time = time.time()\n",
        "total = current_time - start_time\n",
        "print(f'total time: {total/60} minutes')"
      ],
      "metadata": {
        "colab": {
          "base_uri": "https://localhost:8080/"
        },
        "id": "BoYFq1WSEB1K",
        "outputId": "cd2f77c2-3eac-4912-94cb-887c60275389"
      },
      "execution_count": 108,
      "outputs": [
        {
          "output_type": "stream",
          "name": "stdout",
          "text": [
            "epoch: 0  batch: 600  loss: 0.3004239499568939        accuracy: 87.25%\n",
            "epoch: 0  batch: 1200  loss: 0.6581100225448608        accuracy: 90.25%\n",
            "epoch: 0  batch: 1800  loss: 0.37946993112564087        accuracy: 91.74444444444444%\n",
            "epoch: 0  batch: 2400  loss: 0.149811789393425        accuracy: 92.625%\n",
            "epoch: 0  batch: 3000  loss: 0.005510914605110884        accuracy: 93.28%\n",
            "epoch: 0  batch: 3600  loss: 0.2897501289844513        accuracy: 93.81111111111112%\n",
            "epoch: 0  batch: 4200  loss: 0.13308404386043549        accuracy: 94.20714285714286%\n",
            "epoch: 0  batch: 4800  loss: 0.016969826072454453        accuracy: 94.52708333333334%\n",
            "epoch: 0  batch: 5400  loss: 0.16984859108924866        accuracy: 94.87037037037037%\n",
            "epoch: 0  batch: 6000  loss: 0.020191635936498642        accuracy: 95.12666666666667%\n",
            "epoch: 1  batch: 600  loss: 0.029463794082403183        accuracy: 97.73333333333333%\n",
            "epoch: 1  batch: 1200  loss: 0.027131149545311928        accuracy: 97.55%\n",
            "epoch: 1  batch: 1800  loss: 0.0003603386285249144        accuracy: 97.68888888888888%\n",
            "epoch: 1  batch: 2400  loss: 0.006952356547117233        accuracy: 97.675%\n",
            "epoch: 1  batch: 3000  loss: 0.055465687066316605        accuracy: 97.73333333333333%\n",
            "epoch: 1  batch: 3600  loss: 0.08163018524646759        accuracy: 97.78611111111111%\n",
            "epoch: 1  batch: 4200  loss: 0.00803043320775032        accuracy: 97.83571428571429%\n",
            "epoch: 1  batch: 4800  loss: 0.009859224781394005        accuracy: 97.85416666666667%\n",
            "epoch: 1  batch: 5400  loss: 0.019804511219263077        accuracy: 97.8425925925926%\n",
            "epoch: 1  batch: 6000  loss: 0.002623599022626877        accuracy: 97.87666666666667%\n",
            "epoch: 2  batch: 600  loss: 0.0425240658223629        accuracy: 98.73333333333333%\n",
            "epoch: 2  batch: 1200  loss: 0.000948962289839983        accuracy: 98.73333333333333%\n",
            "epoch: 2  batch: 1800  loss: 0.0002476609661243856        accuracy: 98.72777777777777%\n",
            "epoch: 2  batch: 2400  loss: 0.004294014535844326        accuracy: 98.6%\n",
            "epoch: 2  batch: 3000  loss: 0.0008627338102087379        accuracy: 98.63666666666667%\n",
            "epoch: 2  batch: 3600  loss: 0.00037367860204540193        accuracy: 98.62222222222222%\n",
            "epoch: 2  batch: 4200  loss: 0.07970480620861053        accuracy: 98.61666666666666%\n",
            "epoch: 2  batch: 4800  loss: 0.4435266852378845        accuracy: 98.63333333333334%\n",
            "epoch: 2  batch: 5400  loss: 0.00044394185533747077        accuracy: 98.63888888888889%\n",
            "epoch: 2  batch: 6000  loss: 0.001704149297438562        accuracy: 98.62666666666667%\n",
            "epoch: 3  batch: 600  loss: 0.00026927117141894996        accuracy: 98.93333333333334%\n",
            "epoch: 3  batch: 1200  loss: 0.2184033840894699        accuracy: 98.91666666666667%\n",
            "epoch: 3  batch: 1800  loss: 0.18463851511478424        accuracy: 98.90555555555555%\n",
            "epoch: 3  batch: 2400  loss: 0.04778730124235153        accuracy: 98.89166666666667%\n",
            "epoch: 3  batch: 3000  loss: 0.006532914936542511        accuracy: 98.88333333333334%\n",
            "epoch: 3  batch: 3600  loss: 0.07989509403705597        accuracy: 98.875%\n",
            "epoch: 3  batch: 4200  loss: 0.0039350613951683044        accuracy: 98.87619047619047%\n",
            "epoch: 3  batch: 4800  loss: 0.12746575474739075        accuracy: 98.81875%\n",
            "epoch: 3  batch: 5400  loss: 0.05009021610021591        accuracy: 98.83333333333333%\n",
            "epoch: 3  batch: 6000  loss: 0.00020576473616529256        accuracy: 98.81166666666667%\n",
            "epoch: 4  batch: 600  loss: 0.00043912907131016254        accuracy: 99.18333333333334%\n",
            "epoch: 4  batch: 1200  loss: 1.6879748727660626e-05        accuracy: 99.19166666666666%\n",
            "epoch: 4  batch: 1800  loss: 0.00446991715580225        accuracy: 99.27777777777777%\n",
            "epoch: 4  batch: 2400  loss: 0.0004400695615913719        accuracy: 99.19166666666666%\n",
            "epoch: 4  batch: 3000  loss: 0.0001619629329070449        accuracy: 99.16333333333333%\n",
            "epoch: 4  batch: 3600  loss: 3.56410673703067e-05        accuracy: 99.11111111111111%\n",
            "epoch: 4  batch: 4200  loss: 0.0008625147747807205        accuracy: 99.07857142857142%\n",
            "epoch: 4  batch: 4800  loss: 0.0005345757817849517        accuracy: 99.05%\n",
            "epoch: 4  batch: 5400  loss: 0.0004711876972578466        accuracy: 99.0425925925926%\n",
            "epoch: 4  batch: 6000  loss: 0.018474875018000603        accuracy: 99.03666666666666%\n",
            "total time: 3.021400527159373 minutes\n"
          ]
        }
      ]
    },
    {
      "cell_type": "code",
      "source": [
        "test_correct"
      ],
      "metadata": {
        "colab": {
          "base_uri": "https://localhost:8080/"
        },
        "id": "xDGhuXdyOaQ5",
        "outputId": "e02edf7e-6f92-49ba-8249-c3fa6afb095b"
      },
      "execution_count": 110,
      "outputs": [
        {
          "output_type": "execute_result",
          "data": {
            "text/plain": [
              "[tensor(9729), tensor(9828), tensor(9867), tensor(9844), tensor(9851)]"
            ]
          },
          "metadata": {},
          "execution_count": 110
        }
      ]
    },
    {
      "cell_type": "code",
      "source": [
        "y_pred = model(X_train)"
      ],
      "metadata": {
        "id": "r12iHqeSPmFh"
      },
      "execution_count": 111,
      "outputs": []
    },
    {
      "cell_type": "code",
      "source": [
        "torch.max(y_pred.data,1)[1]"
      ],
      "metadata": {
        "colab": {
          "base_uri": "https://localhost:8080/"
        },
        "id": "h6738TmpPnt2",
        "outputId": "2e8143e5-6ee9-417b-b1ef-2c1d72433735"
      },
      "execution_count": 114,
      "outputs": [
        {
          "output_type": "execute_result",
          "data": {
            "text/plain": [
              "tensor([2, 2, 3, 6, 2, 6, 6, 1, 7, 3])"
            ]
          },
          "metadata": {},
          "execution_count": 114
        }
      ]
    },
    {
      "cell_type": "code",
      "source": [
        "torch.max(y_pred.data,1)"
      ],
      "metadata": {
        "colab": {
          "base_uri": "https://localhost:8080/"
        },
        "id": "5IXXMCLxQahp",
        "outputId": "e6121a0c-d0f1-40c8-a863-a6a61843633e"
      },
      "execution_count": 116,
      "outputs": [
        {
          "output_type": "execute_result",
          "data": {
            "text/plain": [
              "torch.return_types.max(\n",
              "values=tensor([-3.5166e-05, -1.9799e-04, -1.5945e-01, -2.9325e-05, -4.0857e-04,\n",
              "        -4.0118e-04, -7.1526e-07, -3.1948e-05, -3.9841e-03,  0.0000e+00]),\n",
              "indices=tensor([2, 2, 3, 6, 2, 6, 6, 1, 7, 3]))"
            ]
          },
          "metadata": {},
          "execution_count": 116
        }
      ]
    },
    {
      "cell_type": "code",
      "source": [
        "y_train"
      ],
      "metadata": {
        "colab": {
          "base_uri": "https://localhost:8080/"
        },
        "id": "QbPAayTjTllB",
        "outputId": "b49b470c-7cbc-4eec-a16a-74d4cad65dab"
      },
      "execution_count": 117,
      "outputs": [
        {
          "output_type": "execute_result",
          "data": {
            "text/plain": [
              "tensor([2, 2, 3, 6, 2, 6, 6, 1, 7, 3])"
            ]
          },
          "metadata": {},
          "execution_count": 117
        }
      ]
    },
    {
      "cell_type": "code",
      "source": [
        "batch_corr"
      ],
      "metadata": {
        "colab": {
          "base_uri": "https://localhost:8080/"
        },
        "id": "L0YvbaYGUYoA",
        "outputId": "54ee9af8-3618-4c4d-a3d7-d74411770831"
      },
      "execution_count": 118,
      "outputs": [
        {
          "output_type": "execute_result",
          "data": {
            "text/plain": [
              "tensor(10)"
            ]
          },
          "metadata": {},
          "execution_count": 118
        }
      ]
    }
  ]
}